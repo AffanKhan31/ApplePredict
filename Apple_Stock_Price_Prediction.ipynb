{
  "nbformat": 4,
  "nbformat_minor": 0,
  "metadata": {
    "colab": {
      "name": "Apple Stock Price Prediction.ipynb",
      "provenance": [],
      "collapsed_sections": []
    },
    "kernelspec": {
      "name": "python3",
      "display_name": "Python 3"
    }
  },
  "cells": [
    {
      "cell_type": "code",
      "metadata": {
        "id": "H5M9LDBd9Bvf"
      },
      "source": [
        "# Description: This program uses an artificial recurrent neural network called Long Short Term Memory (LSTM) to predict the closing price of a stock \n",
        "# in this case Apple Inc. using the price action from the past 60 days"
      ],
      "execution_count": null,
      "outputs": []
    },
    {
      "cell_type": "code",
      "metadata": {
        "id": "g4cohLCY_Od1"
      },
      "source": [
        "#Import the libraries\n",
        "\n",
        "import math\n",
        "import pandas_datareader as web\n",
        "import pandas as pd\n",
        "import numpy as np\n",
        "from sklearn.preprocessing import MinMaxScaler\n",
        "from keras.models import Sequential\n",
        "from keras.layers import Dense, LSTM\n",
        "import matplotlib.pyplot as plt\n",
        "plt.style.use('fivethirtyeight')"
      ],
      "execution_count": null,
      "outputs": []
    },
    {
      "cell_type": "code",
      "metadata": {
        "colab": {
          "base_uri": "https://localhost:8080/",
          "height": 450
        },
        "id": "GDJ5TdcTRyrf",
        "outputId": "e5c2c09a-1990-4475-cceb-e407f12e1fe1"
      },
      "source": [
        "#Get a dataframe (df) with the stock price from a start to end date from yahoo finance \n",
        "\n",
        "df = web.DataReader('AAPL', data_source='yahoo', start='2012-01-01', end='2021-01-06')\n",
        "\n",
        "#Show the data \n",
        "df"
      ],
      "execution_count": null,
      "outputs": [
        {
          "output_type": "execute_result",
          "data": {
            "text/html": [
              "<div>\n",
              "<style scoped>\n",
              "    .dataframe tbody tr th:only-of-type {\n",
              "        vertical-align: middle;\n",
              "    }\n",
              "\n",
              "    .dataframe tbody tr th {\n",
              "        vertical-align: top;\n",
              "    }\n",
              "\n",
              "    .dataframe thead th {\n",
              "        text-align: right;\n",
              "    }\n",
              "</style>\n",
              "<table border=\"1\" class=\"dataframe\">\n",
              "  <thead>\n",
              "    <tr style=\"text-align: right;\">\n",
              "      <th></th>\n",
              "      <th>High</th>\n",
              "      <th>Low</th>\n",
              "      <th>Open</th>\n",
              "      <th>Close</th>\n",
              "      <th>Volume</th>\n",
              "      <th>Adj Close</th>\n",
              "    </tr>\n",
              "    <tr>\n",
              "      <th>Date</th>\n",
              "      <th></th>\n",
              "      <th></th>\n",
              "      <th></th>\n",
              "      <th></th>\n",
              "      <th></th>\n",
              "      <th></th>\n",
              "    </tr>\n",
              "  </thead>\n",
              "  <tbody>\n",
              "    <tr>\n",
              "      <th>2012-01-03</th>\n",
              "      <td>14.732142</td>\n",
              "      <td>14.607142</td>\n",
              "      <td>14.621428</td>\n",
              "      <td>14.686786</td>\n",
              "      <td>302220800.0</td>\n",
              "      <td>12.669562</td>\n",
              "    </tr>\n",
              "    <tr>\n",
              "      <th>2012-01-04</th>\n",
              "      <td>14.810000</td>\n",
              "      <td>14.617143</td>\n",
              "      <td>14.642858</td>\n",
              "      <td>14.765715</td>\n",
              "      <td>260022000.0</td>\n",
              "      <td>12.737655</td>\n",
              "    </tr>\n",
              "    <tr>\n",
              "      <th>2012-01-05</th>\n",
              "      <td>14.948215</td>\n",
              "      <td>14.738214</td>\n",
              "      <td>14.819643</td>\n",
              "      <td>14.929643</td>\n",
              "      <td>271269600.0</td>\n",
              "      <td>12.879071</td>\n",
              "    </tr>\n",
              "    <tr>\n",
              "      <th>2012-01-06</th>\n",
              "      <td>15.098214</td>\n",
              "      <td>14.972143</td>\n",
              "      <td>14.991786</td>\n",
              "      <td>15.085714</td>\n",
              "      <td>318292800.0</td>\n",
              "      <td>13.013705</td>\n",
              "    </tr>\n",
              "    <tr>\n",
              "      <th>2012-01-09</th>\n",
              "      <td>15.276786</td>\n",
              "      <td>15.048214</td>\n",
              "      <td>15.196428</td>\n",
              "      <td>15.061786</td>\n",
              "      <td>394024400.0</td>\n",
              "      <td>12.993064</td>\n",
              "    </tr>\n",
              "    <tr>\n",
              "      <th>...</th>\n",
              "      <td>...</td>\n",
              "      <td>...</td>\n",
              "      <td>...</td>\n",
              "      <td>...</td>\n",
              "      <td>...</td>\n",
              "      <td>...</td>\n",
              "    </tr>\n",
              "    <tr>\n",
              "      <th>2020-12-30</th>\n",
              "      <td>135.990005</td>\n",
              "      <td>133.399994</td>\n",
              "      <td>135.580002</td>\n",
              "      <td>133.720001</td>\n",
              "      <td>96452100.0</td>\n",
              "      <td>133.720001</td>\n",
              "    </tr>\n",
              "    <tr>\n",
              "      <th>2020-12-31</th>\n",
              "      <td>134.740005</td>\n",
              "      <td>131.720001</td>\n",
              "      <td>134.080002</td>\n",
              "      <td>132.690002</td>\n",
              "      <td>98990400.0</td>\n",
              "      <td>132.690002</td>\n",
              "    </tr>\n",
              "    <tr>\n",
              "      <th>2021-01-04</th>\n",
              "      <td>133.610001</td>\n",
              "      <td>126.760002</td>\n",
              "      <td>133.520004</td>\n",
              "      <td>129.410004</td>\n",
              "      <td>143301900.0</td>\n",
              "      <td>129.410004</td>\n",
              "    </tr>\n",
              "    <tr>\n",
              "      <th>2021-01-05</th>\n",
              "      <td>131.740005</td>\n",
              "      <td>128.429993</td>\n",
              "      <td>128.889999</td>\n",
              "      <td>131.009995</td>\n",
              "      <td>97664900.0</td>\n",
              "      <td>131.009995</td>\n",
              "    </tr>\n",
              "    <tr>\n",
              "      <th>2021-01-06</th>\n",
              "      <td>131.050003</td>\n",
              "      <td>126.379997</td>\n",
              "      <td>127.720001</td>\n",
              "      <td>126.599998</td>\n",
              "      <td>155088000.0</td>\n",
              "      <td>126.599998</td>\n",
              "    </tr>\n",
              "  </tbody>\n",
              "</table>\n",
              "<p>2268 rows × 6 columns</p>\n",
              "</div>"
            ],
            "text/plain": [
              "                  High         Low  ...       Volume   Adj Close\n",
              "Date                                ...                         \n",
              "2012-01-03   14.732142   14.607142  ...  302220800.0   12.669562\n",
              "2012-01-04   14.810000   14.617143  ...  260022000.0   12.737655\n",
              "2012-01-05   14.948215   14.738214  ...  271269600.0   12.879071\n",
              "2012-01-06   15.098214   14.972143  ...  318292800.0   13.013705\n",
              "2012-01-09   15.276786   15.048214  ...  394024400.0   12.993064\n",
              "...                ...         ...  ...          ...         ...\n",
              "2020-12-30  135.990005  133.399994  ...   96452100.0  133.720001\n",
              "2020-12-31  134.740005  131.720001  ...   98990400.0  132.690002\n",
              "2021-01-04  133.610001  126.760002  ...  143301900.0  129.410004\n",
              "2021-01-05  131.740005  128.429993  ...   97664900.0  131.009995\n",
              "2021-01-06  131.050003  126.379997  ...  155088000.0  126.599998\n",
              "\n",
              "[2268 rows x 6 columns]"
            ]
          },
          "metadata": {
            "tags": []
          },
          "execution_count": 73
        }
      ]
    },
    {
      "cell_type": "code",
      "metadata": {
        "colab": {
          "base_uri": "https://localhost:8080/"
        },
        "id": "bFSaeOokpiR2",
        "outputId": "6ace6ca8-9d6b-4426-f20c-2c4594ff7e15"
      },
      "source": [
        "#Get the number of rows and columns in our data set\n",
        "df.shape"
      ],
      "execution_count": null,
      "outputs": [
        {
          "output_type": "execute_result",
          "data": {
            "text/plain": [
              "(2268, 6)"
            ]
          },
          "metadata": {
            "tags": []
          },
          "execution_count": 74
        }
      ]
    },
    {
      "cell_type": "code",
      "metadata": {
        "colab": {
          "base_uri": "https://localhost:8080/",
          "height": 566
        },
        "id": "poTs5pgOpqg4",
        "outputId": "99c56bd7-98e9-439e-98d5-6cb7ca5a696f"
      },
      "source": [
        "#Visualize the closing price history for the stock in the form of a chart\n",
        "\n",
        "#This is a plot with a figure size of 16x8\n",
        "plt.figure(figsize=(16,8))\n",
        "\n",
        "#This is the title of our plot\n",
        "plt.title('Price At Closing History')\n",
        "\n",
        "#We give our plot some closing data\n",
        "plt.plot(df['Close'])\n",
        "\n",
        "#This is the x-axis label\n",
        "plt.xlabel('Date', fontsize= 8)\n",
        "\n",
        "#This is the y-axis label\n",
        "plt.ylabel('Close Price USD ($)', fontsize=18)\n",
        "\n",
        "#Show the plot\n",
        "plt.show\n",
        "\n"
      ],
      "execution_count": null,
      "outputs": [
        {
          "output_type": "execute_result",
          "data": {
            "text/plain": [
              "<function matplotlib.pyplot.show>"
            ]
          },
          "metadata": {
            "tags": []
          },
          "execution_count": 75
        },
        {
          "output_type": "display_data",
          "data": {
            "image/png": "[encoded data removed]",
            "text/plain": [
              "<Figure size 1152x576 with 1 Axes>"
            ]
          },
          "metadata": {
            "tags": []
          }
        }
      ]
    },
    {
      "cell_type": "code",
      "metadata": {
        "colab": {
          "base_uri": "https://localhost:8080/"
        },
        "id": "jae6E78Q2T1j",
        "outputId": "b1a8b395-6914-4850-9bce-ecb2f59bb5a8"
      },
      "source": [
        "#Create a new dataframe with only the 'Close Column'\n",
        "data = df.filter(['Close'])\n",
        "\n",
        "#Convert the dataframe to a numpy array\n",
        "dataset = data.values\n",
        "\n",
        "#Get the number of rows of the dataset to train the model on (80% in our case) and round up\n",
        "training_data_len = math.ceil(len(dataset) * .8)\n",
        "\n",
        "training_data_len"
      ],
      "execution_count": null,
      "outputs": [
        {
          "output_type": "execute_result",
          "data": {
            "text/plain": [
              "1815"
            ]
          },
          "metadata": {
            "tags": []
          },
          "execution_count": 76
        }
      ]
    },
    {
      "cell_type": "code",
      "metadata": {
        "colab": {
          "base_uri": "https://localhost:8080/"
        },
        "id": "y0rPnjoU9FvA",
        "outputId": "a210cdcd-6104-4a3c-c0ab-bdf051662bd9"
      },
      "source": [
        "#Scale the data, this is good practice before presenting to a neural network, as well as helps the model \n",
        "scaler = MinMaxScaler(feature_range=(0,1))\n",
        "\n",
        "#Computes the min and max values to be used for scaling and transforms the data based on the values\n",
        "scaled_data = scaler.fit_transform(dataset)\n",
        "\n",
        "scaled_data"
      ],
      "execution_count": null,
      "outputs": [
        {
          "output_type": "execute_result",
          "data": {
            "text/plain": [
              "array([[0.00602306],\n",
              "       [0.00666611],\n",
              "       [0.00800165],\n",
              "       ...,\n",
              "       [0.94068885],\n",
              "       [0.9537242 ],\n",
              "       [0.91779535]])"
            ]
          },
          "metadata": {
            "tags": []
          },
          "execution_count": 77
        }
      ]
    },
    {
      "cell_type": "code",
      "metadata": {
        "colab": {
          "base_uri": "https://localhost:8080/"
        },
        "id": "OtqPEJ6kEzxb",
        "outputId": "5a345a3c-9f32-4df2-b669-63bac62477db"
      },
      "source": [
        "#Create the training data set\n",
        "\n",
        "#Create the scaled trainig data set\n",
        "train_data = scaled_data[0:training_data_len, :]\n",
        "\n",
        "#Split the data into x_train and y_train data sets\n",
        "x_train = []\n",
        "y_train = []\n",
        "\n",
        "#Append the past 60 values to the x_train data set\n",
        "for i in range(60, len(train_data)):\n",
        "\n",
        "  #Contains 60 values from position 0 to position 59\n",
        "  x_train.append(train_data[i-60:i, 0])\n",
        "\n",
        "  #Contains the 61st value at position 60\n",
        "  y_train.append(train_data[i, 0])\n",
        "\n",
        "  if i<= 60:\n",
        "    print(x_train)\n",
        "    print(y_train)\n",
        "\n"
      ],
      "execution_count": null,
      "outputs": [
        {
          "output_type": "stream",
          "text": [
            "[array([0.00602306, 0.00666611, 0.00800165, 0.00927319, 0.00907824,\n",
            "       0.0095176 , 0.00931683, 0.0089793 , 0.00851958, 0.00994242,\n",
            "       0.01122559, 0.01082987, 0.00866215, 0.01073094, 0.00869416,\n",
            "       0.0163321 , 0.01574143, 0.0165125 , 0.01817975, 0.01918941,\n",
            "       0.01910503, 0.0187937 , 0.02012052, 0.02136877, 0.02278289,\n",
            "       0.025067  , 0.02986508, 0.02993782, 0.03260892, 0.03460496,\n",
            "       0.03117443, 0.03249544, 0.03246925, 0.03617329, 0.03564663,\n",
            "       0.03662137, 0.03837301, 0.03934777, 0.04215562, 0.04420113,\n",
            "       0.04479179, 0.04499838, 0.04150094, 0.04065712, 0.04078224,\n",
            "       0.04407018, 0.04499548, 0.04698279, 0.0516674 , 0.05791742,\n",
            "       0.05674772, 0.05675062, 0.06126938, 0.06268348, 0.06167673,\n",
            "       0.06075728, 0.05979999, 0.06298027, 0.06516255, 0.06607619])]\n",
            "[0.06381826722571945]\n"
          ],
          "name": "stdout"
        }
      ]
    },
    {
      "cell_type": "code",
      "metadata": {
        "colab": {
          "base_uri": "https://localhost:8080/"
        },
        "id": "cGNnHY7dJtft",
        "outputId": "2d178869-efa3-4259-bb8b-41ad71878044"
      },
      "source": [
        "#Convert the x_train and y_train to numpy arrays so we can use them to train the LSTM model\n",
        "x_train, y_train = np.array(x_train), np.array(y_train)\n",
        "\n",
        "#Reshape the data to 3-dimensional because that is what the LSTM model expects\n",
        "x_train = np.reshape(x_train, (x_train.shape[0], x_train.shape[1], 1))\n",
        "x_train.shape\n"
      ],
      "execution_count": null,
      "outputs": [
        {
          "output_type": "execute_result",
          "data": {
            "text/plain": [
              "(1755, 60, 1)"
            ]
          },
          "metadata": {
            "tags": []
          },
          "execution_count": 79
        }
      ]
    },
    {
      "cell_type": "code",
      "metadata": {
        "id": "NWfjrO4ONUGf"
      },
      "source": [
        "#Build the LSTM model\n",
        "model = Sequential()\n",
        "\n",
        "#Add a layer to our model, with 50 neurons, return sequence true because we're going to use another layer, with an input shape with the number of time steps and features\n",
        "model.add(LSTM(50, return_sequences=True, input_shape = (x_train.shape[1], 1)))\n",
        "\n",
        "#Add another layer\n",
        "model.add(LSTM(50, return_sequences=False))\n",
        "\n",
        "#Add a dense layer with 25 neurons\n",
        "model.add(Dense(25))\n",
        "\n",
        "#Add another dense layer with 1 neuron\n",
        "model.add(Dense(1)) "
      ],
      "execution_count": null,
      "outputs": []
    },
    {
      "cell_type": "code",
      "metadata": {
        "id": "Y5cLrlEUSgFN"
      },
      "source": [
        "#Compile the model, the optimizer is used to improve the loss function and the loss function measures how well the model did on training\n",
        "model.compile(optimizer='adam', loss='mean_squared_error')"
      ],
      "execution_count": null,
      "outputs": []
    },
    {
      "cell_type": "code",
      "metadata": {
        "colab": {
          "base_uri": "https://localhost:8080/"
        },
        "id": "NG54wNjeTqba",
        "outputId": "7f486765-fdd1-4478-b20f-3db35a400d4a"
      },
      "source": [
        "#Train the model, we give it the training data sets, batch size is the total number of training examples present in a batch, \n",
        "#epoch is the number of iterations when a data set is passed forward and backward through a neural network\n",
        "model.fit(x_train, y_train, batch_size=1, epochs=1)"
      ],
      "execution_count": null,
      "outputs": [
        {
          "output_type": "stream",
          "text": [
            "1755/1755 [==============================] - 45s 24ms/step - loss: 7.4285e-04\n"
          ],
          "name": "stdout"
        },
        {
          "output_type": "execute_result",
          "data": {
            "text/plain": [
              "<tensorflow.python.keras.callbacks.History at 0x7ff8694de470>"
            ]
          },
          "metadata": {
            "tags": []
          },
          "execution_count": 82
        }
      ]
    },
    {
      "cell_type": "code",
      "metadata": {
        "id": "nsW2szyJWhlN"
      },
      "source": [
        "#Create the testing data set\n",
        "\n",
        "#Create a new array containing the scaled values from index 1755 to 2269 and then get all of the columns\n",
        "test_data = scaled_data[training_data_len - 60: 2268, :]\n",
        "\n",
        "#Create the data set x_test and y_set\n",
        "x_test = []\n",
        "y_test = dataset[training_data_len:, :]\n",
        "\n",
        "#Create x_test set, that contains the past 60 values\n",
        "for i in range(60, len(test_data)):\n",
        "  x_test.append(test_data[i-60:i, 0])"
      ],
      "execution_count": null,
      "outputs": []
    },
    {
      "cell_type": "code",
      "metadata": {
        "id": "LDmhusG4XJRo"
      },
      "source": [
        "#Convert the data to a numpy array\n",
        "x_test = np.array(x_test)"
      ],
      "execution_count": null,
      "outputs": []
    },
    {
      "cell_type": "code",
      "metadata": {
        "id": "GdmN5M3VXnAZ"
      },
      "source": [
        "#Reshape the data to 3 dimensions\n",
        "x_test = np.reshape(x_test, (x_test.shape[0], x_test.shape[1], 1))"
      ],
      "execution_count": null,
      "outputs": []
    },
    {
      "cell_type": "code",
      "metadata": {
        "id": "3845L-b-YFzz"
      },
      "source": [
        "#Get the models predicted price values\n",
        "predictions = model.predict(x_test)\n",
        "\n",
        "#Inverse transform the data in the x_test to make it the same as the y_test and basically unscale the values\n",
        "predictions = scaler.inverse_transform(predictions)"
      ],
      "execution_count": null,
      "outputs": []
    },
    {
      "cell_type": "code",
      "metadata": {
        "colab": {
          "base_uri": "https://localhost:8080/"
        },
        "id": "C8iMi1JzYhS_",
        "outputId": "93909c33-480c-4280-9a3d-5e38c3cada06"
      },
      "source": [
        "#Get the root mean squared error (RMSE) which is used to measure of the differences between values predicted by a model or an estimator and the values observed.\n",
        "rmse = np.sqrt(np.mean(predictions - y_test)**2)\n",
        "rmse\n"
      ],
      "execution_count": null,
      "outputs": [
        {
          "output_type": "execute_result",
          "data": {
            "text/plain": [
              "3.754456543238221"
            ]
          },
          "metadata": {
            "tags": []
          },
          "execution_count": 87
        }
      ]
    },
    {
      "cell_type": "code",
      "metadata": {
        "colab": {
          "base_uri": "https://localhost:8080/",
          "height": 660
        },
        "id": "4qVM41ejasUk",
        "outputId": "13d02298-6b7a-4f06-9bb8-d42499ad0a85"
      },
      "source": [
        "#Plot the data on the graph\n",
        "\n",
        "#Contains data from index 0 all the way to the training data length\n",
        "train = data[:training_data_len]\n",
        "\n",
        "#Contains data from the the training data length to the end of the data set\n",
        "valid = data[training_data_len:]\n",
        "\n",
        "#Give valid another column\n",
        "valid['Predictions'] = predictions\n",
        "\n",
        "#Visualize the data\n",
        "\n",
        "#Give the plot a figure size of 16*8\n",
        "plt.figure(figsize=(16,8))\n",
        "\n",
        "#Give the plot a title\n",
        "plt.title('Model')\n",
        "\n",
        "#Give the x axis a label\n",
        "plt.xlabel('Date', fontsize =18)\n",
        "\n",
        "#Give the y axis a label\n",
        "plt.ylabel('Close Price USD ($)', fontsize=18)\n",
        "\n",
        "#Give the plot some data\n",
        "plt.plot(train['Close'])\n",
        "\n",
        "#Give it the actual price and the predicted price\n",
        "plt.plot(valid[['Close', 'Predictions']])\n",
        "\n",
        "#Give the plot a legend in the lower right location\n",
        "plt.legend(['Train', 'Val', 'Predictions'], loc='lower right')\n",
        "\n",
        "plt.show()"
      ],
      "execution_count": null,
      "outputs": [
        {
          "output_type": "stream",
          "text": [
            "/usr/local/lib/python3.6/dist-packages/ipykernel_launcher.py:10: SettingWithCopyWarning: \n",
            "A value is trying to be set on a copy of a slice from a DataFrame.\n",
            "Try using .loc[row_indexer,col_indexer] = value instead\n",
            "\n",
            "See the caveats in the documentation: https://pandas.pydata.org/pandas-docs/stable/user_guide/indexing.html#returning-a-view-versus-a-copy\n",
            "  # Remove the CWD from sys.path while we load stuff.\n"
          ],
          "name": "stderr"
        },
        {
          "output_type": "display_data",
          "data": {
            "image/png": "[encoded data removed]",
            "text/plain": [
              "<Figure size 1152x576 with 1 Axes>"
            ]
          },
          "metadata": {
            "tags": []
          }
        }
      ]
    },
    {
      "cell_type": "code",
      "metadata": {
        "colab": {
          "base_uri": "https://localhost:8080/",
          "height": 450
        },
        "id": "YGn_S9JhdWNA",
        "outputId": "e2e73b09-c2d4-49d0-901e-0f4472dc4252"
      },
      "source": [
        "#Show the valid price and predicted prices\n",
        "valid"
      ],
      "execution_count": null,
      "outputs": [
        {
          "output_type": "execute_result",
          "data": {
            "text/html": [
              "<div>\n",
              "<style scoped>\n",
              "    .dataframe tbody tr th:only-of-type {\n",
              "        vertical-align: middle;\n",
              "    }\n",
              "\n",
              "    .dataframe tbody tr th {\n",
              "        vertical-align: top;\n",
              "    }\n",
              "\n",
              "    .dataframe thead th {\n",
              "        text-align: right;\n",
              "    }\n",
              "</style>\n",
              "<table border=\"1\" class=\"dataframe\">\n",
              "  <thead>\n",
              "    <tr style=\"text-align: right;\">\n",
              "      <th></th>\n",
              "      <th>Close</th>\n",
              "      <th>Predictions</th>\n",
              "    </tr>\n",
              "    <tr>\n",
              "      <th>Date</th>\n",
              "      <th></th>\n",
              "      <th></th>\n",
              "    </tr>\n",
              "  </thead>\n",
              "  <tbody>\n",
              "    <tr>\n",
              "      <th>2019-03-22</th>\n",
              "      <td>47.762501</td>\n",
              "      <td>45.703110</td>\n",
              "    </tr>\n",
              "    <tr>\n",
              "      <th>2019-03-25</th>\n",
              "      <td>47.185001</td>\n",
              "      <td>46.078358</td>\n",
              "    </tr>\n",
              "    <tr>\n",
              "      <th>2019-03-26</th>\n",
              "      <td>46.697498</td>\n",
              "      <td>46.339729</td>\n",
              "    </tr>\n",
              "    <tr>\n",
              "      <th>2019-03-27</th>\n",
              "      <td>47.117500</td>\n",
              "      <td>46.472439</td>\n",
              "    </tr>\n",
              "    <tr>\n",
              "      <th>2019-03-28</th>\n",
              "      <td>47.180000</td>\n",
              "      <td>46.553455</td>\n",
              "    </tr>\n",
              "    <tr>\n",
              "      <th>...</th>\n",
              "      <td>...</td>\n",
              "      <td>...</td>\n",
              "    </tr>\n",
              "    <tr>\n",
              "      <th>2020-12-30</th>\n",
              "      <td>133.720001</td>\n",
              "      <td>121.758858</td>\n",
              "    </tr>\n",
              "    <tr>\n",
              "      <th>2020-12-31</th>\n",
              "      <td>132.690002</td>\n",
              "      <td>122.469582</td>\n",
              "    </tr>\n",
              "    <tr>\n",
              "      <th>2021-01-04</th>\n",
              "      <td>129.410004</td>\n",
              "      <td>122.905327</td>\n",
              "    </tr>\n",
              "    <tr>\n",
              "      <th>2021-01-05</th>\n",
              "      <td>131.009995</td>\n",
              "      <td>122.878548</td>\n",
              "    </tr>\n",
              "    <tr>\n",
              "      <th>2021-01-06</th>\n",
              "      <td>126.599998</td>\n",
              "      <td>122.746834</td>\n",
              "    </tr>\n",
              "  </tbody>\n",
              "</table>\n",
              "<p>453 rows × 2 columns</p>\n",
              "</div>"
            ],
            "text/plain": [
              "                 Close  Predictions\n",
              "Date                               \n",
              "2019-03-22   47.762501    45.703110\n",
              "2019-03-25   47.185001    46.078358\n",
              "2019-03-26   46.697498    46.339729\n",
              "2019-03-27   47.117500    46.472439\n",
              "2019-03-28   47.180000    46.553455\n",
              "...                ...          ...\n",
              "2020-12-30  133.720001   121.758858\n",
              "2020-12-31  132.690002   122.469582\n",
              "2021-01-04  129.410004   122.905327\n",
              "2021-01-05  131.009995   122.878548\n",
              "2021-01-06  126.599998   122.746834\n",
              "\n",
              "[453 rows x 2 columns]"
            ]
          },
          "metadata": {
            "tags": []
          },
          "execution_count": 91
        }
      ]
    },
    {
      "cell_type": "code",
      "metadata": {
        "colab": {
          "base_uri": "https://localhost:8080/"
        },
        "id": "mjPI_EnYdpaf",
        "outputId": "a7802238-20eb-43bd-b8bf-d37761494130"
      },
      "source": [
        "#We are going to get the predicted quote\n",
        "\n",
        "#Get the quote\n",
        "apple_quote = web.DataReader('AAPL', data_source='yahoo', start='2012-01-01', end='2021-1-06')\n",
        "\n",
        "#Create a new dataframe\n",
        "new_df = apple_quote.filter(['Close'])\n",
        "\n",
        "#Get the last 60 day closing price values and convert the dataframe to an array\n",
        "last_60_days = new_df[-60:].values\n",
        "\n",
        "#Scale the data to be values between 0 and 1\n",
        "last_60_days_scaled = scaler.transform(last_60_days)\n",
        "\n",
        "#Create and empty list\n",
        "X_test = []\n",
        "\n",
        "#Append the past 60 days to the list\n",
        "X_test.append(last_60_days_scaled)\n",
        "\n",
        "#Convert the X_test dara to a numpy array\n",
        "X_test = np.array(X_test)\n",
        "\n",
        "#Reshape the data\n",
        "X_test = np.reshape(X_test, (X_test.shape[0], X_test.shape[1], 1))\n",
        "\n",
        "#Get the predicted scaled price\n",
        "pred_price = model.predict(X_test)\n",
        "\n",
        "#Undo the scaling\n",
        "pred_price = scaler.inverse_transform(pred_price)\n",
        "\n",
        "print(pred_price)"
      ],
      "execution_count": null,
      "outputs": [
        {
          "output_type": "stream",
          "text": [
            "[[122.18918]]\n"
          ],
          "name": "stdout"
        }
      ]
    },
    {
      "cell_type": "code",
      "metadata": {
        "colab": {
          "base_uri": "https://localhost:8080/"
        },
        "id": "u8qVdbqaiTCY",
        "outputId": "9d461a89-22bf-4855-c9b5-450f6b871e22"
      },
      "source": [
        "#Get the actual quote\n",
        "apple_quote2 = web.DataReader('AAPL', data_source='yahoo', start='2021-01-07', end='2021-1-07')\n",
        "print(apple_quote2['Close'])"
      ],
      "execution_count": null,
      "outputs": [
        {
          "output_type": "stream",
          "text": [
            "Date\n",
            "2021-01-07    130.919998\n",
            "2021-01-07    130.919998\n",
            "Name: Close, dtype: float64\n"
          ],
          "name": "stdout"
        }
      ]
    }
  ]
}